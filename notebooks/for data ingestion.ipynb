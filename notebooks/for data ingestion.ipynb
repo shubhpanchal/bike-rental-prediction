{
 "cells": [
  {
   "cell_type": "code",
   "execution_count": 1,
   "metadata": {},
   "outputs": [],
   "source": [
    "import os\n",
    "from datetime import datetime"
   ]
  },
  {
   "cell_type": "code",
   "execution_count": 2,
   "metadata": {},
   "outputs": [],
   "source": [
    "os.getcwd()\n",
    "os.chdir('D:\\\\Ineuron\\\\bike-rental-prediction\\\\rentals')\n",
    "os.getcwd()\n",
    "ROOT_DIR = os.getcwd()"
   ]
  },
  {
   "cell_type": "code",
   "execution_count": 3,
   "metadata": {},
   "outputs": [],
   "source": [
    "url = 'https://archive.ics.uci.edu/ml/machine-learning-databases/00275/Bike-Sharing-Dataset.zip'\n",
    "# This is the initial setup of folder structure\n",
    "artifact_folder = os.path.join(ROOT_DIR, \"artifacts\")\n",
    "os.makedirs(artifact_folder, exist_ok=True)\n",
    "\n",
    "data_ingestion_folder = os.path.join(artifact_folder, \"data_ingestion\")\n",
    "os.makedirs(data_ingestion_folder, exist_ok=True)\n",
    "\n",
    "timestamp = datetime.now().strftime('%Y-%m-%d_%H-%M-%S')\n",
    "current_time_stamp_folder = os.path.join(data_ingestion_folder,timestamp)\n",
    "os.makedirs(current_time_stamp_folder,exist_ok=True)\n",
    "\n",
    "# This folders will be used to save train and test split data\n",
    "ingested_data_folder = os.path.join(current_time_stamp_folder, \"ingested_data\")\n",
    "os.makedirs(ingested_data_folder, exist_ok=True)\n",
    "\n",
    "train_data_folder = os.path.join(ingested_data_folder, \"train_data\")\n",
    "os.makedirs(train_data_folder, exist_ok=True)\n",
    "\n",
    "test_data_folder = os.path.join(ingested_data_folder, \"test_data\")\n",
    "os.makedirs(test_data_folder, exist_ok=True)\n",
    "\n",
    "# This folders will be used to save downloaded data \n",
    "zip_download_data_dir_path = os.path.join(current_time_stamp_folder, \"Zip_Downloaded_Data\")\n",
    "os.makedirs(zip_download_data_dir_path,exist_ok=True)\n",
    "\n",
    "# This folder will be used to save extracted data from zip_downloaded_folder\n",
    "raw_data_folder = os.path.join(current_time_stamp_folder,\"raw_data\")\n",
    "os.makedirs(raw_data_folder, exist_ok=True)"
   ]
  },
  {
   "cell_type": "code",
   "execution_count": 5,
   "metadata": {},
   "outputs": [
    {
     "name": "stdout",
     "output_type": "stream",
     "text": [
      "The URL is : https://archive.ics.uci.edu/ml/machine-learning-databases/00275/Bike-Sharing-Dataset.zip\n",
      "___________________________________________________________________________\n",
      "The Artifact Folders are :\n",
      "D:\\Ineuron\\bike-rental-prediction\\rentals\\artifacts\n",
      "D:\\Ineuron\\bike-rental-prediction\\rentals\\artifacts\\data_ingestion\n",
      "D:\\Ineuron\\bike-rental-prediction\\rentals\\artifacts\\data_ingestion\\2023-02-28_21-06-00\n",
      "___________________________________________________________________________\n",
      "The Split data folders are : \n",
      "D:\\Ineuron\\bike-rental-prediction\\rentals\\artifacts\\data_ingestion\\2023-02-28_21-06-00\\ingested_data\n",
      "D:\\Ineuron\\bike-rental-prediction\\rentals\\artifacts\\data_ingestion\\2023-02-28_21-06-00\\ingested_data\\train_data\n",
      "D:\\Ineuron\\bike-rental-prediction\\rentals\\artifacts\\data_ingestion\\2023-02-28_21-06-00\\ingested_data\\test_data\n",
      "___________________________________________________________________________\n",
      "The zip download data folders are :\n",
      "D:\\Ineuron\\bike-rental-prediction\\rentals\\artifacts\\data_ingestion\\2023-02-28_21-06-00\\Zip_Downloaded_Data\n",
      "___________________________________________________________________________\n",
      "The Raw Data folder is : \n",
      "D:\\Ineuron\\bike-rental-prediction\\rentals\\artifacts\\data_ingestion\\2023-02-28_21-06-00\\raw_data\n"
     ]
    }
   ],
   "source": [
    "# Checking the url\n",
    "print(f\"The URL is : {url}\")\n",
    "# confirming the artifact folders\n",
    "print('_'*75)\n",
    "print(\"The Artifact Folders are :\")\n",
    "print(artifact_folder)\n",
    "print(data_ingestion_folder)\n",
    "print(current_time_stamp_folder)\n",
    "# Confirming the split data folders\n",
    "print('_'*75)\n",
    "print('The Split data folders are : ')\n",
    "print(ingested_data_folder)\n",
    "print(train_data_folder)\n",
    "print(test_data_folder)\n",
    "# confirming the zip download folders\n",
    "print('_'*75)\n",
    "print('The zip download data folders are :')\n",
    "print(zip_download_data_dir_path)\n",
    "\n",
    "# confirming the extracted raw data folders\n",
    "print('_'*75)\n",
    "print('The Raw Data folder is : ')\n",
    "print(raw_data_folder)"
   ]
  },
  {
   "cell_type": "code",
   "execution_count": null,
   "metadata": {},
   "outputs": [],
   "source": []
  }
 ],
 "metadata": {
  "kernelspec": {
   "display_name": "Python 3 (ipykernel)",
   "language": "python",
   "name": "python3"
  },
  "language_info": {
   "codemirror_mode": {
    "name": "ipython",
    "version": 3
   },
   "file_extension": ".py",
   "mimetype": "text/x-python",
   "name": "python",
   "nbconvert_exporter": "python",
   "pygments_lexer": "ipython3",
   "version": "3.7.0"
  },
  "vscode": {
   "interpreter": {
    "hash": "a56c1d88f13179a16ea4b07a86c84996a57510235b0afbabee7f4e7a23afb05f"
   }
  }
 },
 "nbformat": 4,
 "nbformat_minor": 2
}
